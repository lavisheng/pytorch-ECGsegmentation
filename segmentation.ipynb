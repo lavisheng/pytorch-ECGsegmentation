{
 "cells": [
  {
   "cell_type": "code",
   "execution_count": 1,
   "metadata": {
    "collapsed": false,
    "jupyter": {
     "outputs_hidden": false
    }
   },
   "outputs": [],
   "source": [
    "# Import\n",
    "import torch\n",
    "import torch.nn as nn\n",
    "import torchvision\n",
    "import scipy.io as sio\n",
    "from torch.utils.data.dataset import Dataset\n",
    "import glob\n",
    "import pandas as pd\n",
    "import numpy as np\n",
    "from torch.utils.data.sampler import SubsetRandomSampler"
   ]
  },
  {
   "cell_type": "code",
   "execution_count": 2,
   "metadata": {
    "collapsed": false,
    "jupyter": {
     "outputs_hidden": false
    }
   },
   "outputs": [],
   "source": [
    "# Device\n",
    "device = torch.device('cuda' if torch.cuda.is_available() else 'cpu')"
   ]
  },
  {
   "cell_type": "code",
   "execution_count": 3,
   "metadata": {
    "collapsed": false,
    "jupyter": {
     "outputs_hidden": false
    }
   },
   "outputs": [],
   "source": [
    "# Hyper Parameters\n",
    "input_size = 1\n",
    "hidden_size = 200\n",
    "num_layers = 1\n",
    "num_classes = 4\n",
    "num_epoch = 10\n",
    "batch_size = 50\n",
    "learning_rate = 0.01\n"
   ]
  },
  {
   "cell_type": "code",
   "execution_count": 27,
   "metadata": {
    "collapsed": false,
    "jupyter": {
     "outputs_hidden": false
    }
   },
   "outputs": [],
   "source": [
    "# Custom dataset\n",
    "class ECGDataset(Dataset):\n",
    "   def __init__(self, folder_path):\n",
    "      \"\"\"\n",
    "      A dataset built off of ECG data in .mat form\n",
    "      Args:\n",
    "      folder_path (string): path to folder\n",
    "      \"\"\"\n",
    "      # get image paths \n",
    "      image_list = glob.glob(folder_path+'*.mat')\n",
    "      image_list.sort(key=lambda v: int(v[len(\"./QTDataset/ecg\"):-4]))\n",
    "      # get label paths\n",
    "      label_list = glob.glob(folder_path+'*.csv')\n",
    "      label_list.sort(key=lambda v: int(v[len(\"./QTDataset/ecg\"):-4]))\n",
    "      # Initialize the numpy arrays to store ecg and labels\n",
    "      # Iterate over the labels and image_list (assume that they are of same length)\n",
    "      for i in range(0, len(label_list)):\n",
    "         # Load mat then convert to numpy\n",
    "         ecgData = sio.loadmat(image_list[i])[\"ecgSignal\"]\n",
    "         ecgData = ecgData.flatten()\n",
    "         ecgData = ecgData.astype(np.float32)\n",
    "         ecgSize = ecgData.size\n",
    "         trim = -1 * (ecgSize % 5000)\n",
    "         # Reshape ecg into samples of 5000 ignoring whatever is left over\n",
    "         ecgData = ecgData[: trim if trim != 0 else ecgSize].reshape(ecgSize // 5000, 5000)\n",
    "         if i == 0:\n",
    "            self.ecgs = ecgData\n",
    "         else:\n",
    "            np.concatenate((self.ecgs, ecgData), axis=0)\n",
    "         # handle the labels\n",
    "         labelData = pd.read_csv(label_list[i])\n",
    "         labels = np.array([[1,0,0,0]] * ecgSize)\n",
    "         # Encoders to convert P, T, QRS to expected output from model\n",
    "         encoder = {\n",
    "            'P': [0,1,0,0],\n",
    "            'T': [0,0,1,0],\n",
    "            'QRS':[0,0,0,1]\n",
    "            }\n",
    "         for _, row in labelData.iterrows():\n",
    "            labels[range(row['ROILimits_1'], row['ROILimits_2']+1)] = encoder[row['Value']]\n",
    "         labels = labels[:trim if trim != 0 else ecgSize].reshape(ecgSize // 5000, 5000, 4)\n",
    "         if i == 0:\n",
    "            self.labels = labels\n",
    "         else:\n",
    "            np.concatenate((self.labels, labels), axis=0)\n",
    "   def __getitem__(self, index):\n",
    "      return torch.from_numpy(self.ecgs[index]), torch.from_numpy(self.labels[index])\n",
    "   def __len__(self):\n",
    "      return len(self.ecgs)"
   ]
  },
  {
   "cell_type": "code",
   "execution_count": 2,
   "metadata": {
    "collapsed": false,
    "jupyter": {
     "outputs_hidden": false
    }
   },
   "outputs": [
    {
     "ename": "NameError",
     "evalue": "name 'ECGDataset' is not defined",
     "output_type": "error",
     "traceback": [
      "\u001b[0;31m---------------------------------------------------------------------------\u001b[0m",
      "\u001b[0;31mNameError\u001b[0m                                 Traceback (most recent call last)",
      "\u001b[0;32m<ipython-input-2-9bfeae51f196>\u001b[0m in \u001b[0;36m<module>\u001b[0;34m\u001b[0m\n\u001b[1;32m      1\u001b[0m \u001b[0;31m# Load Data\u001b[0m\u001b[0;34m\u001b[0m\u001b[0;34m\u001b[0m\u001b[0;34m\u001b[0m\u001b[0m\n\u001b[0;32m----> 2\u001b[0;31m \u001b[0mdataset\u001b[0m \u001b[0;34m=\u001b[0m \u001b[0mECGDataset\u001b[0m\u001b[0;34m(\u001b[0m\u001b[0;34m\"./QTDataset/\"\u001b[0m\u001b[0;34m)\u001b[0m\u001b[0;34m\u001b[0m\u001b[0;34m\u001b[0m\u001b[0m\n\u001b[0m\u001b[1;32m      3\u001b[0m \u001b[0mvalidation_split\u001b[0m \u001b[0;34m=\u001b[0m \u001b[0;36m.3\u001b[0m\u001b[0;34m\u001b[0m\u001b[0;34m\u001b[0m\u001b[0m\n\u001b[1;32m      4\u001b[0m \u001b[0mshuffle_dataset\u001b[0m \u001b[0;34m=\u001b[0m \u001b[0;32mTrue\u001b[0m\u001b[0;34m\u001b[0m\u001b[0;34m\u001b[0m\u001b[0m\n\u001b[1;32m      5\u001b[0m \u001b[0mrandom_seed\u001b[0m\u001b[0;34m=\u001b[0m \u001b[0;36m42\u001b[0m\u001b[0;34m\u001b[0m\u001b[0;34m\u001b[0m\u001b[0m\n",
      "\u001b[0;31mNameError\u001b[0m: name 'ECGDataset' is not defined"
     ]
    }
   ],
   "source": [
    "# Load Data\n",
    "dataset = ECGDataset(\"./QTDataset/\")\n",
    "validation_split = .3\n",
    "shuffle_dataset = True\n",
    "random_seed= 42\n",
    "\n",
    "# Creating data indices for training and validation splits:\n",
    "dataset_size = len(dataset)\n",
    "indices = list(range(dataset_size))\n",
    "split = int(np.floor(validation_split * dataset_size))\n",
    "if shuffle_dataset :\n",
    "    np.random.seed(random_seed)\n",
    "    np.random.shuffle(indices)\n",
    "train_indices, val_indices = indices[split:], indices[:split]\n",
    "\n",
    "# Creating PT data samplers and loaders:\n",
    "train_sampler = SubsetRandomSampler(train_indices)\n",
    "valid_sampler = SubsetRandomSampler(val_indices)\n",
    "\n",
    "train_loader = torch.utils.data.DataLoader(dataset, batch_size=batch_size, \n",
    "                                           sampler=train_sampler)\n",
    "validation_loader = torch.utils.data.DataLoader(dataset, batch_size=batch_size,\n",
    "                                                sampler=valid_sampler) "
   ]
  },
  {
   "cell_type": "code",
   "execution_count": 31,
   "metadata": {
    "collapsed": false,
    "jupyter": {
     "outputs_hidden": false
    }
   },
   "outputs": [],
   "source": [
    "# Model\n",
    "class Classifier(nn.Module):\n",
    "   def __init__(self, input_size, hidden_size, num_layers, num_classes):\n",
    "      super(Classifier, self).__init__()\n",
    "      self.hidden_size = hidden_size\n",
    "      self.num_layers = num_layers\n",
    "      self.lstm = nn.LSTM(input_size, hidden_size, num_layers, batch_first = True)\n",
    "      self.fc = nn.Linear(hidden_size, num_classes)\n",
    "      self.softmax = nn.Softmax()\n",
    "   def forward(self, x):\n",
    "      # Set initial hidden and cell states \n",
    "      h0 = torch.zeros(self.num_layers, x.size(0), self.hidden_size).to(device) \n",
    "      c0 = torch.zeros(self.num_layers, x.size(0), self.hidden_size).to(device)\n",
    "      data, _= self.lstm(x, (h0, c0))\n",
    "      out = self.softmax(self.fc(data))\n",
    "      return out"
   ]
  },
  {
   "cell_type": "code",
   "execution_count": 32,
   "metadata": {
    "collapsed": false,
    "jupyter": {
     "outputs_hidden": false
    }
   },
   "outputs": [],
   "source": [
    "model = Classifier(input_size, hidden_size, num_layers, num_classes)"
   ]
  },
  {
   "cell_type": "code",
   "execution_count": 33,
   "metadata": {
    "collapsed": false,
    "jupyter": {
     "outputs_hidden": false
    }
   },
   "outputs": [],
   "source": [
    "# Optimizers\n",
    "criterion = nn.CrossEntropyLoss()\n",
    "optimizer = torch.optim.Adam(model.parameters(), lr=learning_rate)"
   ]
  },
  {
   "cell_type": "code",
   "execution_count": 1,
   "metadata": {
    "collapsed": false,
    "jupyter": {
     "outputs_hidden": false
    }
   },
   "outputs": [
    {
     "ename": "NameError",
     "evalue": "name 'train_loader' is not defined",
     "output_type": "error",
     "traceback": [
      "\u001b[0;31m---------------------------------------------------------------------------\u001b[0m",
      "\u001b[0;31mNameError\u001b[0m                                 Traceback (most recent call last)",
      "\u001b[0;32m<ipython-input-1-85b91f4d275f>\u001b[0m in \u001b[0;36m<module>\u001b[0;34m\u001b[0m\n\u001b[1;32m      1\u001b[0m \u001b[0;31m# Train the model:\u001b[0m\u001b[0;34m\u001b[0m\u001b[0;34m\u001b[0m\u001b[0;34m\u001b[0m\u001b[0m\n\u001b[0;32m----> 2\u001b[0;31m \u001b[0mtotal_step\u001b[0m \u001b[0;34m=\u001b[0m \u001b[0mlen\u001b[0m\u001b[0;34m(\u001b[0m\u001b[0mtrain_loader\u001b[0m\u001b[0;34m)\u001b[0m\u001b[0;34m\u001b[0m\u001b[0;34m\u001b[0m\u001b[0m\n\u001b[0m\u001b[1;32m      3\u001b[0m \u001b[0;32mfor\u001b[0m \u001b[0mepoch\u001b[0m \u001b[0;32min\u001b[0m \u001b[0mrange\u001b[0m\u001b[0;34m(\u001b[0m\u001b[0mnum_epoch\u001b[0m\u001b[0;34m)\u001b[0m\u001b[0;34m:\u001b[0m\u001b[0;34m\u001b[0m\u001b[0;34m\u001b[0m\u001b[0m\n\u001b[1;32m      4\u001b[0m    \u001b[0;32mfor\u001b[0m \u001b[0mi\u001b[0m\u001b[0;34m,\u001b[0m \u001b[0;34m(\u001b[0m\u001b[0msamples\u001b[0m\u001b[0;34m,\u001b[0m \u001b[0mlabels\u001b[0m\u001b[0;34m)\u001b[0m \u001b[0;32min\u001b[0m \u001b[0menumerate\u001b[0m\u001b[0;34m(\u001b[0m\u001b[0mtrain_loader\u001b[0m\u001b[0;34m)\u001b[0m\u001b[0;34m:\u001b[0m\u001b[0;34m\u001b[0m\u001b[0;34m\u001b[0m\u001b[0m\n\u001b[1;32m      5\u001b[0m       \u001b[0mprint\u001b[0m\u001b[0;34m(\u001b[0m\u001b[0msamples\u001b[0m\u001b[0;34m.\u001b[0m\u001b[0msize\u001b[0m\u001b[0;34m(\u001b[0m\u001b[0;34m)\u001b[0m\u001b[0;34m)\u001b[0m\u001b[0;34m\u001b[0m\u001b[0;34m\u001b[0m\u001b[0m\n",
      "\u001b[0;31mNameError\u001b[0m: name 'train_loader' is not defined"
     ]
    }
   ],
   "source": [
    "# Train the model:\n",
    "total_step = len(train_loader)\n",
    "for epoch in range(num_epoch):\n",
    "   for i, (samples, labels) in enumerate(train_loader):\n",
    "      print(samples.size())\n",
    "      samples = samples.reshape(-1, 5000, input_size).to(device)\n",
    "      print(samples.size())\n",
    "      labels = labels.to(device)\n",
    "      \n",
    "      # fwd pass\n",
    "      outputs = model(samples)\n",
    "      print(outputs.size())\n",
    "      print(labels.size())\n",
    "      # Main issue: Do I need a custom loss function?\n",
    "      loss = criterion(outputs, labels)\n",
    "      # Backwards\n",
    "      optimizer.zero_grad()\n",
    "      loss.backward()\n",
    "      optimizer.step()\n",
    "\n",
    "      if (i+1) % 100 == 0:\n",
    "         print(\"Epoch [{}/{}], Step[{}/{}] Loss: {:.4f}\"\n",
    "               .format(epoch+1, num_epochs, i+1, total_step, loss.item()))\n",
    "      "
   ]
  }
 ],
 "metadata": {
  "kernelspec": {
   "argv": [
    "/home/sweaterprincess/miniconda3/bin/python",
    "-m",
    "ipykernel_launcher",
    "-f",
    "{connection_file}"
   ],
   "display_name": "Python 3",
   "env": null,
   "interrupt_mode": "signal",
   "language": "python",
   "metadata": null,
   "name": "python3"
  },
  "language_info": {
   "codemirror_mode": {
    "name": "ipython",
    "version": 3
   },
   "file_extension": ".py",
   "mimetype": "text/x-python",
   "name": "python",
   "nbconvert_exporter": "python",
   "pygments_lexer": "ipython3",
   "version": "3.7.6"
  },
  "name": "segmentation.ipynb"
 },
 "nbformat": 4,
 "nbformat_minor": 4
}
